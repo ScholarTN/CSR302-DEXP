{
 "cells": [
  {
   "cell_type": "code",
   "execution_count": 4,
   "metadata": {},
   "outputs": [],
   "source": [
    "import pandas as pd\n",
    "\n",
    "df = pd.read_csv(\"/home/scholar/Documents/DOCS/AIDE/CSR302 DEXP/Sales.csv\")"
   ]
  },
  {
   "cell_type": "code",
   "execution_count": 5,
   "metadata": {},
   "outputs": [
    {
     "data": {
      "text/html": [
       "<div>\n",
       "<style scoped>\n",
       "    .dataframe tbody tr th:only-of-type {\n",
       "        vertical-align: middle;\n",
       "    }\n",
       "\n",
       "    .dataframe tbody tr th {\n",
       "        vertical-align: top;\n",
       "    }\n",
       "\n",
       "    .dataframe thead th {\n",
       "        text-align: right;\n",
       "    }\n",
       "</style>\n",
       "<table border=\"1\" class=\"dataframe\">\n",
       "  <thead>\n",
       "    <tr style=\"text-align: right;\">\n",
       "      <th></th>\n",
       "      <th>Sales_Before</th>\n",
       "      <th>Sales_After</th>\n",
       "      <th>Customer_Satisfaction_Before</th>\n",
       "      <th>Customer_Satisfaction_After</th>\n",
       "    </tr>\n",
       "  </thead>\n",
       "  <tbody>\n",
       "    <tr>\n",
       "      <th>count</th>\n",
       "      <td>8478.000000</td>\n",
       "      <td>9233.000000</td>\n",
       "      <td>8330.000000</td>\n",
       "      <td>8360.000000</td>\n",
       "    </tr>\n",
       "    <tr>\n",
       "      <th>mean</th>\n",
       "      <td>203.716998</td>\n",
       "      <td>280.457952</td>\n",
       "      <td>70.252076</td>\n",
       "      <td>73.872593</td>\n",
       "    </tr>\n",
       "    <tr>\n",
       "      <th>std</th>\n",
       "      <td>55.273059</td>\n",
       "      <td>85.659543</td>\n",
       "      <td>16.957010</td>\n",
       "      <td>18.128351</td>\n",
       "    </tr>\n",
       "    <tr>\n",
       "      <th>min</th>\n",
       "      <td>24.852966</td>\n",
       "      <td>32.414352</td>\n",
       "      <td>22.202441</td>\n",
       "      <td>18.224938</td>\n",
       "    </tr>\n",
       "    <tr>\n",
       "      <th>25%</th>\n",
       "      <td>166.629232</td>\n",
       "      <td>221.436990</td>\n",
       "      <td>56.365513</td>\n",
       "      <td>59.925030</td>\n",
       "    </tr>\n",
       "    <tr>\n",
       "      <th>50%</th>\n",
       "      <td>203.323607</td>\n",
       "      <td>273.129170</td>\n",
       "      <td>69.490898</td>\n",
       "      <td>73.844594</td>\n",
       "    </tr>\n",
       "    <tr>\n",
       "      <th>75%</th>\n",
       "      <td>238.809147</td>\n",
       "      <td>332.570108</td>\n",
       "      <td>83.426798</td>\n",
       "      <td>90.044365</td>\n",
       "    </tr>\n",
       "    <tr>\n",
       "      <th>max</th>\n",
       "      <td>545.422547</td>\n",
       "      <td>818.219997</td>\n",
       "      <td>100.000000</td>\n",
       "      <td>100.000000</td>\n",
       "    </tr>\n",
       "  </tbody>\n",
       "</table>\n",
       "</div>"
      ],
      "text/plain": [
       "       Sales_Before  Sales_After  Customer_Satisfaction_Before  \\\n",
       "count   8478.000000  9233.000000                   8330.000000   \n",
       "mean     203.716998   280.457952                     70.252076   \n",
       "std       55.273059    85.659543                     16.957010   \n",
       "min       24.852966    32.414352                     22.202441   \n",
       "25%      166.629232   221.436990                     56.365513   \n",
       "50%      203.323607   273.129170                     69.490898   \n",
       "75%      238.809147   332.570108                     83.426798   \n",
       "max      545.422547   818.219997                    100.000000   \n",
       "\n",
       "       Customer_Satisfaction_After  \n",
       "count                  8360.000000  \n",
       "mean                     73.872593  \n",
       "std                      18.128351  \n",
       "min                      18.224938  \n",
       "25%                      59.925030  \n",
       "50%                      73.844594  \n",
       "75%                      90.044365  \n",
       "max                     100.000000  "
      ]
     },
     "execution_count": 5,
     "metadata": {},
     "output_type": "execute_result"
    }
   ],
   "source": [
    "df.describe()"
   ]
  },
  {
   "cell_type": "code",
   "execution_count": 6,
   "metadata": {},
   "outputs": [
    {
     "name": "stdout",
     "output_type": "stream",
     "text": [
      "<class 'pandas.core.frame.DataFrame'>\n",
      "RangeIndex: 10000 entries, 0 to 9999\n",
      "Data columns (total 7 columns):\n",
      " #   Column                        Non-Null Count  Dtype  \n",
      "---  ------                        --------------  -----  \n",
      " 0   Group                         8599 non-null   object \n",
      " 1   Customer_Segment              8034 non-null   object \n",
      " 2   Sales_Before                  8478 non-null   float64\n",
      " 3   Sales_After                   9233 non-null   float64\n",
      " 4   Customer_Satisfaction_Before  8330 non-null   float64\n",
      " 5   Customer_Satisfaction_After   8360 non-null   float64\n",
      " 6   Purchase_Made                 9195 non-null   object \n",
      "dtypes: float64(4), object(3)\n",
      "memory usage: 547.0+ KB\n",
      "None\n",
      "       Group Customer_Segment  Sales_Before  Sales_After  \\\n",
      "0    Control       High Value    240.548359   300.007568   \n",
      "1  Treatment       High Value    246.862114   381.337555   \n",
      "2    Control       High Value    156.978084   179.330464   \n",
      "3    Control     Medium Value    192.126708   229.278031   \n",
      "4        NaN       High Value    229.685623          NaN   \n",
      "\n",
      "   Customer_Satisfaction_Before  Customer_Satisfaction_After Purchase_Made  \n",
      "0                     74.684767                          NaN            No  \n",
      "1                    100.000000                   100.000000           Yes  \n",
      "2                     98.780735                   100.000000            No  \n",
      "3                     49.333766                    39.811841           Yes  \n",
      "4                     83.974852                    87.738591           Yes  \n"
     ]
    }
   ],
   "source": [
    "print(df.info())\n",
    "print(df.head())"
   ]
  },
  {
   "cell_type": "code",
   "execution_count": 2,
   "metadata": {},
   "outputs": [],
   "source": [
    "from statsmodels.imputation.mice import MICEData\n",
    "from scipy import stats\n",
    "import numpy as np\n",
    "\n"
   ]
  },
  {
   "cell_type": "code",
   "execution_count": 7,
   "metadata": {},
   "outputs": [
    {
     "name": "stdout",
     "output_type": "stream",
     "text": [
      "\n",
      "🔍 Missing Value Counts:\n",
      "Customer_Satisfaction_After_missing    1640\n",
      "Sales_Before_missing                   1522\n",
      "dtype: int64\n"
     ]
    }
   ],
   "source": [
    "#missing value indicators\n",
    "df['Customer_Satisfaction_After_missing'] = df['Customer_Satisfaction_After'].isnull().astype(int)\n",
    "df['Sales_Before_missing'] = df['Sales_Before'].isnull().astype(int)\n",
    "\n",
    "# Display how many missing values exist\n",
    "print(\"\\n🔍 Missing Value Counts:\")\n",
    "print(df[['Customer_Satisfaction_After_missing', 'Sales_Before_missing']].sum())\n"
   ]
  },
  {
   "cell_type": "code",
   "execution_count": 8,
   "metadata": {},
   "outputs": [
    {
     "name": "stdout",
     "output_type": "stream",
     "text": [
      "\n",
      "📊 Chi-square Test Results:\n",
      "Chi2 Value: 0.0954, p-value: 0.7574, Degrees of Freedom: 1\n",
      "✅ No significant relationship between missing values (p > 0.05)\n"
     ]
    }
   ],
   "source": [
    " #Perform Chi-square Test\n",
    "from scipy.stats import chi2_contingency\n",
    "# Create a contingency table\n",
    "contingency_table = pd.crosstab(df['Customer_Satisfaction_After_missing'], df['Sales_Before_missing'])\n",
    "\n",
    "# Perform Chi-square test\n",
    "chi2, p, dof, expected = chi2_contingency(contingency_table)\n",
    "\n",
    "# Print results\n",
    "print(\"\\n📊 Chi-square Test Results:\")\n",
    "print(f\"Chi2 Value: {chi2:.4f}, p-value: {p:.4f}, Degrees of Freedom: {dof}\")\n",
    "\n",
    "if p > 0.05:\n",
    "    print(\"✅ No significant relationship between missing values (p > 0.05)\")\n",
    "else:\n",
    "    print(\"⚠️ Significant relationship found (p <= 0.05)\")"
   ]
  },
  {
   "cell_type": "code",
   "execution_count": 9,
   "metadata": {},
   "outputs": [
    {
     "name": "stdout",
     "output_type": "stream",
     "text": [
      "\n",
      "✅ Missing values handled successfully!\n"
     ]
    }
   ],
   "source": [
    "#Handling Missing Values\n",
    "# Fill categorical missing values with mode\n",
    "for col in ['Group', 'Customer_Segment', 'Purchase_Made']:\n",
    "    df[col].fillna(df[col].mode()[0], inplace=True)\n",
    "\n",
    "# Fill numerical missing values with median\n",
    "for col in ['Sales_Before', 'Sales_After', 'Customer_Satisfaction_Before', 'Customer_Satisfaction_After']:\n",
    "    df[col].fillna(df[col].median(), inplace=True)\n",
    "\n",
    "print(\"\\n✅ Missing values handled successfully!\")"
   ]
  },
  {
   "cell_type": "markdown",
   "metadata": {},
   "source": [
    "#Imputation,deletion,"
   ]
  }
 ],
 "metadata": {
  "kernelspec": {
   "display_name": "Python 3",
   "language": "python",
   "name": "python3"
  },
  "language_info": {
   "codemirror_mode": {
    "name": "ipython",
    "version": 3
   },
   "file_extension": ".py",
   "mimetype": "text/x-python",
   "name": "python",
   "nbconvert_exporter": "python",
   "pygments_lexer": "ipython3",
   "version": "3.12.3"
  }
 },
 "nbformat": 4,
 "nbformat_minor": 2
}
